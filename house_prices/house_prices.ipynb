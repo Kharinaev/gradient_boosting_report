{
 "cells": [
  {
   "cell_type": "code",
   "execution_count": 1,
   "id": "3da0c4ed-1913-46f2-af7b-cc97cba168e5",
   "metadata": {},
   "outputs": [],
   "source": [
    "import pandas as pd\n",
    "import numpy as np\n",
    "import matplotlib.pyplot as plt\n",
    "import seaborn as sns; sns.set()\n",
    "%matplotlib inline\n",
    "from sklearn.metrics import mean_squared_error, accuracy_score\n",
    "from sklearn.model_selection import train_test_split, GridSearchCV\n",
    "from sklearn.linear_model import LogisticRegression, Ridge\n",
    "from sklearn.preprocessing import StandardScaler\n",
    "from catboost import CatBoostRegressor, CatBoostClassifier, Pool"
   ]
  },
  {
   "cell_type": "markdown",
   "id": "73ea7871-d759-42a9-a399-f30d3721c4f1",
   "metadata": {},
   "source": [
    "# 1. Задача классификации. Болезни сердца"
   ]
  },
  {
   "cell_type": "code",
   "execution_count": 2,
   "id": "b883a49c-909b-4c3b-b626-71f7485b768d",
   "metadata": {},
   "outputs": [
    {
     "data": {
      "text/html": [
       "<div>\n",
       "<style scoped>\n",
       "    .dataframe tbody tr th:only-of-type {\n",
       "        vertical-align: middle;\n",
       "    }\n",
       "\n",
       "    .dataframe tbody tr th {\n",
       "        vertical-align: top;\n",
       "    }\n",
       "\n",
       "    .dataframe thead th {\n",
       "        text-align: right;\n",
       "    }\n",
       "</style>\n",
       "<table border=\"1\" class=\"dataframe\">\n",
       "  <thead>\n",
       "    <tr style=\"text-align: right;\">\n",
       "      <th></th>\n",
       "      <th>age</th>\n",
       "      <th>sex</th>\n",
       "      <th>cp</th>\n",
       "      <th>trestbps</th>\n",
       "      <th>chol</th>\n",
       "      <th>fbs</th>\n",
       "      <th>restecg</th>\n",
       "      <th>thalach</th>\n",
       "      <th>exang</th>\n",
       "      <th>oldpeak</th>\n",
       "      <th>slope</th>\n",
       "      <th>ca</th>\n",
       "      <th>thal</th>\n",
       "      <th>target</th>\n",
       "    </tr>\n",
       "  </thead>\n",
       "  <tbody>\n",
       "    <tr>\n",
       "      <th>0</th>\n",
       "      <td>63</td>\n",
       "      <td>1</td>\n",
       "      <td>3</td>\n",
       "      <td>145</td>\n",
       "      <td>233</td>\n",
       "      <td>1</td>\n",
       "      <td>0</td>\n",
       "      <td>150</td>\n",
       "      <td>0</td>\n",
       "      <td>2.3</td>\n",
       "      <td>0</td>\n",
       "      <td>0</td>\n",
       "      <td>1</td>\n",
       "      <td>1</td>\n",
       "    </tr>\n",
       "    <tr>\n",
       "      <th>1</th>\n",
       "      <td>37</td>\n",
       "      <td>1</td>\n",
       "      <td>2</td>\n",
       "      <td>130</td>\n",
       "      <td>250</td>\n",
       "      <td>0</td>\n",
       "      <td>1</td>\n",
       "      <td>187</td>\n",
       "      <td>0</td>\n",
       "      <td>3.5</td>\n",
       "      <td>0</td>\n",
       "      <td>0</td>\n",
       "      <td>2</td>\n",
       "      <td>1</td>\n",
       "    </tr>\n",
       "    <tr>\n",
       "      <th>2</th>\n",
       "      <td>41</td>\n",
       "      <td>0</td>\n",
       "      <td>1</td>\n",
       "      <td>130</td>\n",
       "      <td>204</td>\n",
       "      <td>0</td>\n",
       "      <td>0</td>\n",
       "      <td>172</td>\n",
       "      <td>0</td>\n",
       "      <td>1.4</td>\n",
       "      <td>2</td>\n",
       "      <td>0</td>\n",
       "      <td>2</td>\n",
       "      <td>1</td>\n",
       "    </tr>\n",
       "    <tr>\n",
       "      <th>3</th>\n",
       "      <td>56</td>\n",
       "      <td>1</td>\n",
       "      <td>1</td>\n",
       "      <td>120</td>\n",
       "      <td>236</td>\n",
       "      <td>0</td>\n",
       "      <td>1</td>\n",
       "      <td>178</td>\n",
       "      <td>0</td>\n",
       "      <td>0.8</td>\n",
       "      <td>2</td>\n",
       "      <td>0</td>\n",
       "      <td>2</td>\n",
       "      <td>1</td>\n",
       "    </tr>\n",
       "    <tr>\n",
       "      <th>4</th>\n",
       "      <td>57</td>\n",
       "      <td>0</td>\n",
       "      <td>0</td>\n",
       "      <td>120</td>\n",
       "      <td>354</td>\n",
       "      <td>0</td>\n",
       "      <td>1</td>\n",
       "      <td>163</td>\n",
       "      <td>1</td>\n",
       "      <td>0.6</td>\n",
       "      <td>2</td>\n",
       "      <td>0</td>\n",
       "      <td>2</td>\n",
       "      <td>1</td>\n",
       "    </tr>\n",
       "    <tr>\n",
       "      <th>...</th>\n",
       "      <td>...</td>\n",
       "      <td>...</td>\n",
       "      <td>...</td>\n",
       "      <td>...</td>\n",
       "      <td>...</td>\n",
       "      <td>...</td>\n",
       "      <td>...</td>\n",
       "      <td>...</td>\n",
       "      <td>...</td>\n",
       "      <td>...</td>\n",
       "      <td>...</td>\n",
       "      <td>...</td>\n",
       "      <td>...</td>\n",
       "      <td>...</td>\n",
       "    </tr>\n",
       "    <tr>\n",
       "      <th>298</th>\n",
       "      <td>57</td>\n",
       "      <td>0</td>\n",
       "      <td>0</td>\n",
       "      <td>140</td>\n",
       "      <td>241</td>\n",
       "      <td>0</td>\n",
       "      <td>1</td>\n",
       "      <td>123</td>\n",
       "      <td>1</td>\n",
       "      <td>0.2</td>\n",
       "      <td>1</td>\n",
       "      <td>0</td>\n",
       "      <td>3</td>\n",
       "      <td>0</td>\n",
       "    </tr>\n",
       "    <tr>\n",
       "      <th>299</th>\n",
       "      <td>45</td>\n",
       "      <td>1</td>\n",
       "      <td>3</td>\n",
       "      <td>110</td>\n",
       "      <td>264</td>\n",
       "      <td>0</td>\n",
       "      <td>1</td>\n",
       "      <td>132</td>\n",
       "      <td>0</td>\n",
       "      <td>1.2</td>\n",
       "      <td>1</td>\n",
       "      <td>0</td>\n",
       "      <td>3</td>\n",
       "      <td>0</td>\n",
       "    </tr>\n",
       "    <tr>\n",
       "      <th>300</th>\n",
       "      <td>68</td>\n",
       "      <td>1</td>\n",
       "      <td>0</td>\n",
       "      <td>144</td>\n",
       "      <td>193</td>\n",
       "      <td>1</td>\n",
       "      <td>1</td>\n",
       "      <td>141</td>\n",
       "      <td>0</td>\n",
       "      <td>3.4</td>\n",
       "      <td>1</td>\n",
       "      <td>2</td>\n",
       "      <td>3</td>\n",
       "      <td>0</td>\n",
       "    </tr>\n",
       "    <tr>\n",
       "      <th>301</th>\n",
       "      <td>57</td>\n",
       "      <td>1</td>\n",
       "      <td>0</td>\n",
       "      <td>130</td>\n",
       "      <td>131</td>\n",
       "      <td>0</td>\n",
       "      <td>1</td>\n",
       "      <td>115</td>\n",
       "      <td>1</td>\n",
       "      <td>1.2</td>\n",
       "      <td>1</td>\n",
       "      <td>1</td>\n",
       "      <td>3</td>\n",
       "      <td>0</td>\n",
       "    </tr>\n",
       "    <tr>\n",
       "      <th>302</th>\n",
       "      <td>57</td>\n",
       "      <td>0</td>\n",
       "      <td>1</td>\n",
       "      <td>130</td>\n",
       "      <td>236</td>\n",
       "      <td>0</td>\n",
       "      <td>0</td>\n",
       "      <td>174</td>\n",
       "      <td>0</td>\n",
       "      <td>0.0</td>\n",
       "      <td>1</td>\n",
       "      <td>1</td>\n",
       "      <td>2</td>\n",
       "      <td>0</td>\n",
       "    </tr>\n",
       "  </tbody>\n",
       "</table>\n",
       "<p>303 rows × 14 columns</p>\n",
       "</div>"
      ],
      "text/plain": [
       "     age  sex  cp  trestbps  chol  fbs  restecg  thalach  exang  oldpeak  \\\n",
       "0     63    1   3       145   233    1        0      150      0      2.3   \n",
       "1     37    1   2       130   250    0        1      187      0      3.5   \n",
       "2     41    0   1       130   204    0        0      172      0      1.4   \n",
       "3     56    1   1       120   236    0        1      178      0      0.8   \n",
       "4     57    0   0       120   354    0        1      163      1      0.6   \n",
       "..   ...  ...  ..       ...   ...  ...      ...      ...    ...      ...   \n",
       "298   57    0   0       140   241    0        1      123      1      0.2   \n",
       "299   45    1   3       110   264    0        1      132      0      1.2   \n",
       "300   68    1   0       144   193    1        1      141      0      3.4   \n",
       "301   57    1   0       130   131    0        1      115      1      1.2   \n",
       "302   57    0   1       130   236    0        0      174      0      0.0   \n",
       "\n",
       "     slope  ca  thal  target  \n",
       "0        0   0     1       1  \n",
       "1        0   0     2       1  \n",
       "2        2   0     2       1  \n",
       "3        2   0     2       1  \n",
       "4        2   0     2       1  \n",
       "..     ...  ..   ...     ...  \n",
       "298      1   0     3       0  \n",
       "299      1   0     3       0  \n",
       "300      1   2     3       0  \n",
       "301      1   1     3       0  \n",
       "302      1   1     2       0  \n",
       "\n",
       "[303 rows x 14 columns]"
      ]
     },
     "execution_count": 2,
     "metadata": {},
     "output_type": "execute_result"
    }
   ],
   "source": [
    "heart = pd.read_csv('heart.csv')\n",
    "heart"
   ]
  },
  {
   "cell_type": "markdown",
   "id": "10baaefd-34e3-4872-9408-470bad01f2ae",
   "metadata": {},
   "source": [
    "## 1.1 Логистическая регрессия"
   ]
  },
  {
   "cell_type": "markdown",
   "id": "1b30c916-2363-4796-a661-6a06826f1f46",
   "metadata": {},
   "source": [
    "Бинаризуем категориальные небинарные переменные"
   ]
  },
  {
   "cell_type": "code",
   "execution_count": 3,
   "id": "2267544f-3adc-4e21-960a-4cd80d8a218d",
   "metadata": {},
   "outputs": [],
   "source": [
    "categorical = ['cp', 'restecg', 'slope', 'ca', 'thal']\n",
    "heart_bin = pd.get_dummies(heart, columns=categorical)"
   ]
  },
  {
   "cell_type": "markdown",
   "id": "aa228035-7701-4433-ac73-821dd23d23a3",
   "metadata": {},
   "source": [
    "Масштабируем данные"
   ]
  },
  {
   "cell_type": "code",
   "execution_count": 4,
   "id": "9e0877e9-5bdd-48d2-82ce-c4d4671fdfad",
   "metadata": {},
   "outputs": [],
   "source": [
    "numerical = ['age', 'trestbps', 'chol', 'thalach', 'oldpeak']\n",
    "scaler = StandardScaler()\n",
    "heart_bin[numerical] = scaler.fit_transform(heart_bin[numerical])"
   ]
  },
  {
   "cell_type": "markdown",
   "id": "0f71d79a-69ca-46a7-8bee-9feeb82b4972",
   "metadata": {},
   "source": [
    "Выполняем поиск лучшего коэффициента регуляризации"
   ]
  },
  {
   "cell_type": "code",
   "execution_count": 5,
   "id": "56a8054a-8385-4ede-af25-9e068ec1b99f",
   "metadata": {
    "tags": []
   },
   "outputs": [],
   "source": [
    "X_train, X_test, y_train, y_test = train_test_split(heart_bin.drop('target', axis=1), heart_bin.target, test_size=0.25, random_state=356) "
   ]
  },
  {
   "cell_type": "code",
   "execution_count": 6,
   "id": "9bea4b0a-46d7-42b5-a358-0403cfcca6a3",
   "metadata": {},
   "outputs": [],
   "source": [
    "C = np.logspace(-3, 3, 50)\n",
    "searcher = GridSearchCV(LogisticRegression(max_iter=1000), [{\"C\": C}], scoring=\"accuracy\", cv=3)\n",
    "searcher.fit(X_train, y_train)\n",
    "best_C = searcher.best_params_[\"C\"]"
   ]
  },
  {
   "cell_type": "markdown",
   "id": "5fe9bc46-b0c5-4f77-8c65-58d45bf1bbdb",
   "metadata": {},
   "source": [
    "Обучаем модель с лучшим коэффициентом регуляризации, проверяем качество классификации на отложенной выборке"
   ]
  },
  {
   "cell_type": "code",
   "execution_count": 7,
   "id": "3a4f22ee-c68f-47c6-b113-b6c1e07dcfaa",
   "metadata": {},
   "outputs": [
    {
     "data": {
      "text/plain": [
       "0.7631578947368421"
      ]
     },
     "execution_count": 7,
     "metadata": {},
     "output_type": "execute_result"
    }
   ],
   "source": [
    "logreg = LogisticRegression(max_iter=1000, C=best_C)\n",
    "logreg.fit(X_train, y_train)\n",
    "y_pred = logreg.predict(X_test)\n",
    "accuracy_score(y_test, y_pred)"
   ]
  },
  {
   "cell_type": "markdown",
   "id": "006549fc-16bb-4290-9532-0b94c821834a",
   "metadata": {},
   "source": [
    "## 1.2 Градиентный бустинг\n",
    "СatBoost почти не нуждается в предобработке данных"
   ]
  },
  {
   "cell_type": "code",
   "execution_count": 8,
   "id": "10b33aa4-5c53-4335-a772-f9d3ea4931c1",
   "metadata": {},
   "outputs": [
    {
     "data": {
      "text/plain": [
       "0.8947368421052632"
      ]
     },
     "execution_count": 8,
     "metadata": {},
     "output_type": "execute_result"
    }
   ],
   "source": [
    "X_train, X_test, y_train, y_test = train_test_split(heart.drop('target', axis=1), heart.target, test_size=0.25, random_state=619) \n",
    "\n",
    "categorical = ['cp', 'restecg', 'slope', 'ca', 'thal', 'sex', 'fbs','exang']\n",
    "ctb = CatBoostClassifier(cat_features=categorical, silent=True, eval_metric='Accuracy')\n",
    "ctb.fit(X_train, y_train)\n",
    "y_pred = ctb.predict(X_test)\n",
    "accuracy_score(y_test, y_pred)"
   ]
  },
  {
   "cell_type": "markdown",
   "id": "4521a964-c5e2-49ed-95cf-2c28c23417a7",
   "metadata": {},
   "source": [
    "Заметно, что качество классификации градиентного бустинга без какого-либо подбора оптимальных параметров выше, чем качество логистической регрессии с подобранным параметром $\\mathcal{l}_2$ -регуляризации"
   ]
  },
  {
   "cell_type": "markdown",
   "id": "ad3dc8e7-f00e-4869-a73c-9105aae051fe",
   "metadata": {},
   "source": [
    "# 2. Задача регрессии. Ценообразование недвижимости"
   ]
  },
  {
   "cell_type": "code",
   "execution_count": 9,
   "id": "b205d0ab-569c-4048-87d9-00a5d61d19dd",
   "metadata": {},
   "outputs": [
    {
     "data": {
      "text/html": [
       "<div>\n",
       "<style scoped>\n",
       "    .dataframe tbody tr th:only-of-type {\n",
       "        vertical-align: middle;\n",
       "    }\n",
       "\n",
       "    .dataframe tbody tr th {\n",
       "        vertical-align: top;\n",
       "    }\n",
       "\n",
       "    .dataframe thead th {\n",
       "        text-align: right;\n",
       "    }\n",
       "</style>\n",
       "<table border=\"1\" class=\"dataframe\">\n",
       "  <thead>\n",
       "    <tr style=\"text-align: right;\">\n",
       "      <th></th>\n",
       "      <th>MSSubClass</th>\n",
       "      <th>MSZoning</th>\n",
       "      <th>LotFrontage</th>\n",
       "      <th>LotArea</th>\n",
       "      <th>Street</th>\n",
       "      <th>Alley</th>\n",
       "      <th>LotShape</th>\n",
       "      <th>LandContour</th>\n",
       "      <th>Utilities</th>\n",
       "      <th>LotConfig</th>\n",
       "      <th>...</th>\n",
       "      <th>PoolArea</th>\n",
       "      <th>PoolQC</th>\n",
       "      <th>Fence</th>\n",
       "      <th>MiscFeature</th>\n",
       "      <th>MiscVal</th>\n",
       "      <th>MoSold</th>\n",
       "      <th>YrSold</th>\n",
       "      <th>SaleType</th>\n",
       "      <th>SaleCondition</th>\n",
       "      <th>SalePrice</th>\n",
       "    </tr>\n",
       "    <tr>\n",
       "      <th>Id</th>\n",
       "      <th></th>\n",
       "      <th></th>\n",
       "      <th></th>\n",
       "      <th></th>\n",
       "      <th></th>\n",
       "      <th></th>\n",
       "      <th></th>\n",
       "      <th></th>\n",
       "      <th></th>\n",
       "      <th></th>\n",
       "      <th></th>\n",
       "      <th></th>\n",
       "      <th></th>\n",
       "      <th></th>\n",
       "      <th></th>\n",
       "      <th></th>\n",
       "      <th></th>\n",
       "      <th></th>\n",
       "      <th></th>\n",
       "      <th></th>\n",
       "      <th></th>\n",
       "    </tr>\n",
       "  </thead>\n",
       "  <tbody>\n",
       "    <tr>\n",
       "      <th>1</th>\n",
       "      <td>60</td>\n",
       "      <td>RL</td>\n",
       "      <td>65.0</td>\n",
       "      <td>8450</td>\n",
       "      <td>Pave</td>\n",
       "      <td>NaN</td>\n",
       "      <td>Reg</td>\n",
       "      <td>Lvl</td>\n",
       "      <td>AllPub</td>\n",
       "      <td>Inside</td>\n",
       "      <td>...</td>\n",
       "      <td>0</td>\n",
       "      <td>NaN</td>\n",
       "      <td>NaN</td>\n",
       "      <td>NaN</td>\n",
       "      <td>0</td>\n",
       "      <td>2</td>\n",
       "      <td>2008</td>\n",
       "      <td>WD</td>\n",
       "      <td>Normal</td>\n",
       "      <td>12.247699</td>\n",
       "    </tr>\n",
       "    <tr>\n",
       "      <th>2</th>\n",
       "      <td>20</td>\n",
       "      <td>RL</td>\n",
       "      <td>80.0</td>\n",
       "      <td>9600</td>\n",
       "      <td>Pave</td>\n",
       "      <td>NaN</td>\n",
       "      <td>Reg</td>\n",
       "      <td>Lvl</td>\n",
       "      <td>AllPub</td>\n",
       "      <td>FR2</td>\n",
       "      <td>...</td>\n",
       "      <td>0</td>\n",
       "      <td>NaN</td>\n",
       "      <td>NaN</td>\n",
       "      <td>NaN</td>\n",
       "      <td>0</td>\n",
       "      <td>5</td>\n",
       "      <td>2007</td>\n",
       "      <td>WD</td>\n",
       "      <td>Normal</td>\n",
       "      <td>12.109016</td>\n",
       "    </tr>\n",
       "    <tr>\n",
       "      <th>3</th>\n",
       "      <td>60</td>\n",
       "      <td>RL</td>\n",
       "      <td>68.0</td>\n",
       "      <td>11250</td>\n",
       "      <td>Pave</td>\n",
       "      <td>NaN</td>\n",
       "      <td>IR1</td>\n",
       "      <td>Lvl</td>\n",
       "      <td>AllPub</td>\n",
       "      <td>Inside</td>\n",
       "      <td>...</td>\n",
       "      <td>0</td>\n",
       "      <td>NaN</td>\n",
       "      <td>NaN</td>\n",
       "      <td>NaN</td>\n",
       "      <td>0</td>\n",
       "      <td>9</td>\n",
       "      <td>2008</td>\n",
       "      <td>WD</td>\n",
       "      <td>Normal</td>\n",
       "      <td>12.317171</td>\n",
       "    </tr>\n",
       "    <tr>\n",
       "      <th>4</th>\n",
       "      <td>70</td>\n",
       "      <td>RL</td>\n",
       "      <td>60.0</td>\n",
       "      <td>9550</td>\n",
       "      <td>Pave</td>\n",
       "      <td>NaN</td>\n",
       "      <td>IR1</td>\n",
       "      <td>Lvl</td>\n",
       "      <td>AllPub</td>\n",
       "      <td>Corner</td>\n",
       "      <td>...</td>\n",
       "      <td>0</td>\n",
       "      <td>NaN</td>\n",
       "      <td>NaN</td>\n",
       "      <td>NaN</td>\n",
       "      <td>0</td>\n",
       "      <td>2</td>\n",
       "      <td>2006</td>\n",
       "      <td>WD</td>\n",
       "      <td>Abnorml</td>\n",
       "      <td>11.849405</td>\n",
       "    </tr>\n",
       "    <tr>\n",
       "      <th>5</th>\n",
       "      <td>60</td>\n",
       "      <td>RL</td>\n",
       "      <td>84.0</td>\n",
       "      <td>14260</td>\n",
       "      <td>Pave</td>\n",
       "      <td>NaN</td>\n",
       "      <td>IR1</td>\n",
       "      <td>Lvl</td>\n",
       "      <td>AllPub</td>\n",
       "      <td>FR2</td>\n",
       "      <td>...</td>\n",
       "      <td>0</td>\n",
       "      <td>NaN</td>\n",
       "      <td>NaN</td>\n",
       "      <td>NaN</td>\n",
       "      <td>0</td>\n",
       "      <td>12</td>\n",
       "      <td>2008</td>\n",
       "      <td>WD</td>\n",
       "      <td>Normal</td>\n",
       "      <td>12.429220</td>\n",
       "    </tr>\n",
       "    <tr>\n",
       "      <th>...</th>\n",
       "      <td>...</td>\n",
       "      <td>...</td>\n",
       "      <td>...</td>\n",
       "      <td>...</td>\n",
       "      <td>...</td>\n",
       "      <td>...</td>\n",
       "      <td>...</td>\n",
       "      <td>...</td>\n",
       "      <td>...</td>\n",
       "      <td>...</td>\n",
       "      <td>...</td>\n",
       "      <td>...</td>\n",
       "      <td>...</td>\n",
       "      <td>...</td>\n",
       "      <td>...</td>\n",
       "      <td>...</td>\n",
       "      <td>...</td>\n",
       "      <td>...</td>\n",
       "      <td>...</td>\n",
       "      <td>...</td>\n",
       "      <td>...</td>\n",
       "    </tr>\n",
       "    <tr>\n",
       "      <th>1456</th>\n",
       "      <td>60</td>\n",
       "      <td>RL</td>\n",
       "      <td>62.0</td>\n",
       "      <td>7917</td>\n",
       "      <td>Pave</td>\n",
       "      <td>NaN</td>\n",
       "      <td>Reg</td>\n",
       "      <td>Lvl</td>\n",
       "      <td>AllPub</td>\n",
       "      <td>Inside</td>\n",
       "      <td>...</td>\n",
       "      <td>0</td>\n",
       "      <td>NaN</td>\n",
       "      <td>NaN</td>\n",
       "      <td>NaN</td>\n",
       "      <td>0</td>\n",
       "      <td>8</td>\n",
       "      <td>2007</td>\n",
       "      <td>WD</td>\n",
       "      <td>Normal</td>\n",
       "      <td>12.072547</td>\n",
       "    </tr>\n",
       "    <tr>\n",
       "      <th>1457</th>\n",
       "      <td>20</td>\n",
       "      <td>RL</td>\n",
       "      <td>85.0</td>\n",
       "      <td>13175</td>\n",
       "      <td>Pave</td>\n",
       "      <td>NaN</td>\n",
       "      <td>Reg</td>\n",
       "      <td>Lvl</td>\n",
       "      <td>AllPub</td>\n",
       "      <td>Inside</td>\n",
       "      <td>...</td>\n",
       "      <td>0</td>\n",
       "      <td>NaN</td>\n",
       "      <td>MnPrv</td>\n",
       "      <td>NaN</td>\n",
       "      <td>0</td>\n",
       "      <td>2</td>\n",
       "      <td>2010</td>\n",
       "      <td>WD</td>\n",
       "      <td>Normal</td>\n",
       "      <td>12.254868</td>\n",
       "    </tr>\n",
       "    <tr>\n",
       "      <th>1458</th>\n",
       "      <td>70</td>\n",
       "      <td>RL</td>\n",
       "      <td>66.0</td>\n",
       "      <td>9042</td>\n",
       "      <td>Pave</td>\n",
       "      <td>NaN</td>\n",
       "      <td>Reg</td>\n",
       "      <td>Lvl</td>\n",
       "      <td>AllPub</td>\n",
       "      <td>Inside</td>\n",
       "      <td>...</td>\n",
       "      <td>0</td>\n",
       "      <td>NaN</td>\n",
       "      <td>GdPrv</td>\n",
       "      <td>Shed</td>\n",
       "      <td>2500</td>\n",
       "      <td>5</td>\n",
       "      <td>2010</td>\n",
       "      <td>WD</td>\n",
       "      <td>Normal</td>\n",
       "      <td>12.493133</td>\n",
       "    </tr>\n",
       "    <tr>\n",
       "      <th>1459</th>\n",
       "      <td>20</td>\n",
       "      <td>RL</td>\n",
       "      <td>68.0</td>\n",
       "      <td>9717</td>\n",
       "      <td>Pave</td>\n",
       "      <td>NaN</td>\n",
       "      <td>Reg</td>\n",
       "      <td>Lvl</td>\n",
       "      <td>AllPub</td>\n",
       "      <td>Inside</td>\n",
       "      <td>...</td>\n",
       "      <td>0</td>\n",
       "      <td>NaN</td>\n",
       "      <td>NaN</td>\n",
       "      <td>NaN</td>\n",
       "      <td>0</td>\n",
       "      <td>4</td>\n",
       "      <td>2010</td>\n",
       "      <td>WD</td>\n",
       "      <td>Normal</td>\n",
       "      <td>11.864469</td>\n",
       "    </tr>\n",
       "    <tr>\n",
       "      <th>1460</th>\n",
       "      <td>20</td>\n",
       "      <td>RL</td>\n",
       "      <td>75.0</td>\n",
       "      <td>9937</td>\n",
       "      <td>Pave</td>\n",
       "      <td>NaN</td>\n",
       "      <td>Reg</td>\n",
       "      <td>Lvl</td>\n",
       "      <td>AllPub</td>\n",
       "      <td>Inside</td>\n",
       "      <td>...</td>\n",
       "      <td>0</td>\n",
       "      <td>NaN</td>\n",
       "      <td>NaN</td>\n",
       "      <td>NaN</td>\n",
       "      <td>0</td>\n",
       "      <td>6</td>\n",
       "      <td>2008</td>\n",
       "      <td>WD</td>\n",
       "      <td>Normal</td>\n",
       "      <td>11.901590</td>\n",
       "    </tr>\n",
       "  </tbody>\n",
       "</table>\n",
       "<p>1460 rows × 80 columns</p>\n",
       "</div>"
      ],
      "text/plain": [
       "      MSSubClass MSZoning  LotFrontage  LotArea Street Alley LotShape  \\\n",
       "Id                                                                      \n",
       "1             60       RL         65.0     8450   Pave   NaN      Reg   \n",
       "2             20       RL         80.0     9600   Pave   NaN      Reg   \n",
       "3             60       RL         68.0    11250   Pave   NaN      IR1   \n",
       "4             70       RL         60.0     9550   Pave   NaN      IR1   \n",
       "5             60       RL         84.0    14260   Pave   NaN      IR1   \n",
       "...          ...      ...          ...      ...    ...   ...      ...   \n",
       "1456          60       RL         62.0     7917   Pave   NaN      Reg   \n",
       "1457          20       RL         85.0    13175   Pave   NaN      Reg   \n",
       "1458          70       RL         66.0     9042   Pave   NaN      Reg   \n",
       "1459          20       RL         68.0     9717   Pave   NaN      Reg   \n",
       "1460          20       RL         75.0     9937   Pave   NaN      Reg   \n",
       "\n",
       "     LandContour Utilities LotConfig  ... PoolArea PoolQC  Fence MiscFeature  \\\n",
       "Id                                    ...                                      \n",
       "1            Lvl    AllPub    Inside  ...        0    NaN    NaN         NaN   \n",
       "2            Lvl    AllPub       FR2  ...        0    NaN    NaN         NaN   \n",
       "3            Lvl    AllPub    Inside  ...        0    NaN    NaN         NaN   \n",
       "4            Lvl    AllPub    Corner  ...        0    NaN    NaN         NaN   \n",
       "5            Lvl    AllPub       FR2  ...        0    NaN    NaN         NaN   \n",
       "...          ...       ...       ...  ...      ...    ...    ...         ...   \n",
       "1456         Lvl    AllPub    Inside  ...        0    NaN    NaN         NaN   \n",
       "1457         Lvl    AllPub    Inside  ...        0    NaN  MnPrv         NaN   \n",
       "1458         Lvl    AllPub    Inside  ...        0    NaN  GdPrv        Shed   \n",
       "1459         Lvl    AllPub    Inside  ...        0    NaN    NaN         NaN   \n",
       "1460         Lvl    AllPub    Inside  ...        0    NaN    NaN         NaN   \n",
       "\n",
       "     MiscVal MoSold  YrSold  SaleType  SaleCondition  SalePrice  \n",
       "Id                                                               \n",
       "1          0      2    2008        WD         Normal  12.247699  \n",
       "2          0      5    2007        WD         Normal  12.109016  \n",
       "3          0      9    2008        WD         Normal  12.317171  \n",
       "4          0      2    2006        WD        Abnorml  11.849405  \n",
       "5          0     12    2008        WD         Normal  12.429220  \n",
       "...      ...    ...     ...       ...            ...        ...  \n",
       "1456       0      8    2007        WD         Normal  12.072547  \n",
       "1457       0      2    2010        WD         Normal  12.254868  \n",
       "1458    2500      5    2010        WD         Normal  12.493133  \n",
       "1459       0      4    2010        WD         Normal  11.864469  \n",
       "1460       0      6    2008        WD         Normal  11.901590  \n",
       "\n",
       "[1460 rows x 80 columns]"
      ]
     },
     "execution_count": 9,
     "metadata": {},
     "output_type": "execute_result"
    }
   ],
   "source": [
    "train = pd.read_csv('~/.kaggle/train.csv', index_col=0)\n",
    "test = pd.read_csv('~/.kaggle/test.csv', index_col=0)\n",
    "train.SalePrice = np.log1p(train.SalePrice) #т.к. используется метрика RMSLE\n",
    "train"
   ]
  },
  {
   "cell_type": "markdown",
   "id": "ac26bdb4-e0ed-446b-81ab-52362f779bd2",
   "metadata": {},
   "source": [
    "## 2.1 Логистическая регрессия\n",
    "Осуществим предобработку данных (заполним отсутствующие значения, закодируем категориальные переменные)"
   ]
  },
  {
   "cell_type": "code",
   "execution_count": 10,
   "id": "9f7b10f0-49c1-4abf-b090-b14c8dbcfc20",
   "metadata": {},
   "outputs": [
    {
     "data": {
      "text/plain": [
       "Index(['MSSubClass', 'MSZoning', 'Street', 'Alley', 'LotShape', 'LandContour',\n",
       "       'Utilities', 'LotConfig', 'LandSlope', 'Neighborhood', 'Condition1',\n",
       "       'Condition2', 'BldgType', 'HouseStyle', 'OverallQual', 'OverallCond',\n",
       "       'RoofStyle', 'RoofMatl', 'Exterior1st', 'Exterior2nd', 'MasVnrType',\n",
       "       'ExterQual', 'ExterCond', 'Foundation', 'BsmtQual', 'BsmtCond',\n",
       "       'BsmtExposure', 'BsmtFinType1', 'BsmtFinType2', 'Heating', 'HeatingQC',\n",
       "       'CentralAir', 'Electrical', 'BedroomAbvGr', 'KitchenAbvGr',\n",
       "       'KitchenQual', 'Functional', 'FireplaceQu', 'GarageType',\n",
       "       'GarageFinish', 'GarageQual', 'GarageCond', 'PavedDrive', 'PoolQC',\n",
       "       'Fence', 'MiscFeature', 'SaleType', 'SaleCondition'],\n",
       "      dtype='object')"
      ]
     },
     "execution_count": 10,
     "metadata": {},
     "output_type": "execute_result"
    }
   ],
   "source": [
    "numerical = ['LotFrontage', 'LotArea', 'YearBuilt', 'YearRemodAdd', 'MasVnrArea', 'BsmtFinSF1', 'BsmtFinSF2', 'BsmtUnfSF', \n",
    "             'TotalBsmtSF', '1stFlrSF', '2ndFlrSF', 'LowQualFinSF', 'GrLivArea', 'BsmtFullBath', 'BsmtHalfBath', 'FullBath', \n",
    "             'HalfBath', 'TotRmsAbvGrd', 'Fireplaces', 'GarageYrBlt', 'GarageCars', 'GarageArea', 'WoodDeckSF', \n",
    "             'OpenPorchSF', 'EnclosedPorch', '3SsnPorch', 'ScreenPorch', 'PoolArea', 'MiscVal', 'MoSold', 'YrSold']\n",
    "categorical = train.drop(numerical, axis=1).drop('SalePrice', axis=1).columns\n",
    "categorical"
   ]
  },
  {
   "cell_type": "code",
   "execution_count": 11,
   "id": "a61a27b0-8192-4951-a885-06cbc65408b8",
   "metadata": {},
   "outputs": [],
   "source": [
    "train[categorical] = train[categorical].fillna('NotGiven')\n",
    "test[categorical] = test[categorical].fillna('NotGiven')"
   ]
  },
  {
   "cell_type": "code",
   "execution_count": 12,
   "id": "43902d52-f0bd-42cc-b405-d994ba0da415",
   "metadata": {},
   "outputs": [],
   "source": [
    "train_objs_num = len(train)\n",
    "dataset = pd.concat(objs=[train, test], axis=0)\n",
    "dataset_dum = pd.get_dummies(dataset, columns=categorical)\n",
    "train_dum = dataset_dum[:train_objs_num]\n",
    "test_dum = dataset_dum[train_objs_num:]"
   ]
  },
  {
   "cell_type": "code",
   "execution_count": 13,
   "id": "70822759-4a6e-4b76-b4c0-e2f3c4b1cc94",
   "metadata": {},
   "outputs": [],
   "source": [
    "X_train, X_val, y_train, y_val = train_test_split(train_dum.drop('SalePrice', axis=1), train_dum.SalePrice, test_size=0.25, random_state=42)"
   ]
  },
  {
   "cell_type": "code",
   "execution_count": 14,
   "id": "013df1c5-f371-4c9b-a0c4-14de28cf6485",
   "metadata": {},
   "outputs": [],
   "source": [
    "numeric_data = X_train[numerical]\n",
    "numeric_data_median = numeric_data.median()\n",
    "numeric_features = numeric_data.columns\n",
    "X_train = X_train.fillna(numeric_data_median)\n",
    "X_val = X_val.fillna(numeric_data_median)"
   ]
  },
  {
   "cell_type": "markdown",
   "id": "e09b620a-f3dc-4995-acc3-eab119cc5076",
   "metadata": {},
   "source": [
    "Масштабируем данные"
   ]
  },
  {
   "cell_type": "code",
   "execution_count": 15,
   "id": "1d154e6a-02c2-407b-bea4-aa54c9b90100",
   "metadata": {},
   "outputs": [],
   "source": [
    "scaler = StandardScaler()\n",
    "scaler.fit(X_train[numerical])\n",
    "X_train[numerical] = scaler.transform(X_train[numerical])\n",
    "X_val[numerical] = scaler.transform(X_val[numerical])"
   ]
  },
  {
   "cell_type": "markdown",
   "id": "2734b0f6-6794-40cf-8b7d-e07272ccfd00",
   "metadata": {},
   "source": [
    "Выберем оптимальный коэффициент регуляризации"
   ]
  },
  {
   "cell_type": "code",
   "execution_count": 16,
   "id": "6a7e1658-cd97-407f-93ae-fccdff4236ba",
   "metadata": {},
   "outputs": [],
   "source": [
    "alpha = np.logspace(-3, 3, 100)\n",
    "searcher = GridSearchCV(Ridge(max_iter=1000), [{\"alpha\": alpha}], scoring=\"neg_root_mean_squared_error\", cv=3)\n",
    "searcher.fit(X_train, y_train)\n",
    "best_alpha = searcher.best_params_[\"alpha\"]"
   ]
  },
  {
   "cell_type": "markdown",
   "id": "d93df670-966a-4748-92f0-a7285b777fbe",
   "metadata": {},
   "source": [
    "Обучим модель с оптимальным коэффициентом регуляризации"
   ]
  },
  {
   "cell_type": "code",
   "execution_count": 17,
   "id": "2271997e-7bed-40b5-86e0-29d883a76e2d",
   "metadata": {},
   "outputs": [
    {
     "data": {
      "text/plain": [
       "0.13748253362426197"
      ]
     },
     "execution_count": 17,
     "metadata": {},
     "output_type": "execute_result"
    }
   ],
   "source": [
    "model = Ridge(max_iter=1000, alpha=best_alpha)\n",
    "model.fit(X_train, y_train)\n",
    "y_pred = model.predict(X_val)\n",
    "mean_squared_error(y_val, y_pred, squared=False)"
   ]
  },
  {
   "cell_type": "markdown",
   "id": "3b52e8d8-49ac-4996-8d95-d5cd861588c3",
   "metadata": {},
   "source": [
    "Рассмотрим 20 признаков с наибольшими по модулю коэффициентами. Заметно, что здесь за счет бинаризации категориальных переменных их значения учитываются по отдельности. Это, с одной стороны, помогает сравнить важность различных значений одного признака, но, с другой стороны, загромождает общую картину важности признаков для целевой переменной. "
   ]
  },
  {
   "cell_type": "code",
   "execution_count": 18,
   "id": "c35ef367-a17f-41a1-acee-c94cb6a30e43",
   "metadata": {},
   "outputs": [
    {
     "data": {
      "image/png": "[encoded data removed]",
      "text/plain": [
       "<Figure size 720x432 with 1 Axes>"
      ]
     },
     "metadata": {},
     "output_type": "display_data"
    }
   ],
   "source": [
    "features = model.feature_names_in_[np.argsort(abs(model.coef_))[::-1]]\n",
    "weights = np.sort(abs(model.coef_))[::-1]\n",
    "sns.set(rc={'figure.figsize':(10,6)})\n",
    "sns.barplot(x=weights[:20], y=features[:20]).set_title('Топ-20 признаков c наибольшими по модулю регрессионными весами');"
   ]
  },
  {
   "cell_type": "markdown",
   "id": "2f66fd46-5391-4c8a-9d48-a2b40c504e61",
   "metadata": {},
   "source": [
    "Два района Crawford и Stone Brook (признак Neighborhood), судя по всему, самые престижные в Эймсе.  \n",
    "Сразу же видно несколько аномалий: оценка 3 условий проживания (OverallCond) влияет на цену больше, чем оценка 9, а оценка 3 качества ремонта и материалов (OverallQual) больше, чем оценка 8. В этом недостаток бинаризации категориальных признаков"
   ]
  },
  {
   "cell_type": "markdown",
   "id": "031deef8-3416-4f5c-a410-eac67a54a1ab",
   "metadata": {},
   "source": [
    "## 2.2 Градиентный бустинг\n",
    "Часть обучающей выборки возьмем в качестве валидационной, чтобы контролировать переобучение  \n",
    "Проверка качества модели будет осуществляться с помощью тестовой выборки, ответы для которой не публично хранятся на kaggle"
   ]
  },
  {
   "cell_type": "code",
   "execution_count": 19,
   "id": "9314e9e7-f553-4a11-9371-24952c7409ca",
   "metadata": {},
   "outputs": [],
   "source": [
    "X_train, X_val, y_train, y_val = train_test_split(train.drop('SalePrice', axis=1), train.SalePrice, test_size=0.25, random_state=42)"
   ]
  },
  {
   "cell_type": "code",
   "execution_count": 20,
   "id": "9c336901-ff5c-4146-a5d6-10f3e2187629",
   "metadata": {},
   "outputs": [],
   "source": [
    "train_pool = Pool(X_train, label=y_train, cat_features=np.array(categorical))\n",
    "val_pool = Pool(X_val, label=y_val, cat_features=np.array(categorical))\n",
    "test_pool = Pool(test, cat_features=np.array(categorical))"
   ]
  },
  {
   "cell_type": "markdown",
   "id": "aea8e67e-a0c7-4561-94e0-d41f520a2d41",
   "metadata": {},
   "source": [
    "Обучим модель без явного задания параметров, это будет опорный результат, который мы будем стремиться улучшить"
   ]
  },
  {
   "cell_type": "code",
   "execution_count": 21,
   "id": "0832d8cf-3a4e-497d-ad2d-1244bd15b465",
   "metadata": {
    "tags": []
   },
   "outputs": [
    {
     "data": {
      "application/vnd.jupyter.widget-view+json": {
       "model_id": "9d278e99774c4469967c8a7700ff1c27",
       "version_major": 2,
       "version_minor": 0
      },
      "text/plain": [
       "MetricVisualizer(layout=Layout(align_self='stretch', height='500px'))"
      ]
     },
     "metadata": {},
     "output_type": "display_data"
    }
   ],
   "source": [
    "ctb_model = CatBoostRegressor()\n",
    "\n",
    "ctb_model.fit(train_pool, eval_set=val_pool, plot=True, verbose=False);"
   ]
  },
  {
   "cell_type": "markdown",
   "id": "2008cdfe-aff4-4e84-9839-962e389a8e11",
   "metadata": {},
   "source": [
    "Сформируем .csv файл и загрузим его на kaggle для оценки точности на тестовой выборке"
   ]
  },
  {
   "cell_type": "code",
   "execution_count": 22,
   "id": "aca4b0dc-3a7e-4d42-bfb6-096a13796558",
   "metadata": {
    "tags": []
   },
   "outputs": [],
   "source": [
    "y_submit = ctb_model.predict(test_pool)\n",
    "submit_dflt_params = pd.DataFrame({'Id':test.index, 'SalePrice': np.expm1(y_submit)})\n",
    "submit_dflt_params.to_csv('~/ds/house_prices/submit_dflt_params.csv', index=False)"
   ]
  },
  {
   "cell_type": "markdown",
   "id": "41790798-bd59-4eb4-a111-25c442bdaece",
   "metadata": {},
   "source": [
    "0.12948 - RMSLE на тестовой выборке"
   ]
  },
  {
   "cell_type": "markdown",
   "id": "f1e18abf-b7b5-44ff-a3f6-29e63cade3db",
   "metadata": {},
   "source": [
    "Качество предсказания \"из коробки\" уже сейчас выше, чем у Ridge-регрессии, изучим параметры"
   ]
  },
  {
   "cell_type": "code",
   "execution_count": 23,
   "id": "603a029b-b685-4d95-82f0-781b252b0dbf",
   "metadata": {},
   "outputs": [
    {
     "data": {
      "text/plain": [
       "{'nan_mode': 'Min',\n",
       " 'eval_metric': 'RMSE',\n",
       " 'combinations_ctr': ['Borders:CtrBorderCount=15:CtrBorderType=Uniform:TargetBorderCount=1:TargetBorderType=MinEntropy:Prior=0/1:Prior=0.5/1:Prior=1/1',\n",
       "  'Counter:CtrBorderCount=15:CtrBorderType=Uniform:Prior=0/1'],\n",
       " 'iterations': 1000,\n",
       " 'sampling_frequency': 'PerTree',\n",
       " 'fold_permutation_block': 0,\n",
       " 'leaf_estimation_method': 'Newton',\n",
       " 'counter_calc_method': 'SkipTest',\n",
       " 'grow_policy': 'SymmetricTree',\n",
       " 'penalties_coefficient': 1,\n",
       " 'boosting_type': 'Plain',\n",
       " 'model_shrink_mode': 'Constant',\n",
       " 'feature_border_type': 'GreedyLogSum',\n",
       " 'ctr_leaf_count_limit': 18446744073709551615,\n",
       " 'bayesian_matrix_reg': 0.10000000149011612,\n",
       " 'one_hot_max_size': 2,\n",
       " 'l2_leaf_reg': 3,\n",
       " 'random_strength': 1,\n",
       " 'rsm': 1,\n",
       " 'boost_from_average': True,\n",
       " 'max_ctr_complexity': 4,\n",
       " 'model_size_reg': 0.5,\n",
       " 'simple_ctr': ['Borders:CtrBorderCount=15:CtrBorderType=Uniform:TargetBorderCount=1:TargetBorderType=MinEntropy:Prior=0/1:Prior=0.5/1:Prior=1/1',\n",
       "  'Counter:CtrBorderCount=15:CtrBorderType=Uniform:Prior=0/1'],\n",
       " 'pool_metainfo_options': {'tags': {}},\n",
       " 'subsample': 0.800000011920929,\n",
       " 'use_best_model': True,\n",
       " 'random_seed': 0,\n",
       " 'depth': 6,\n",
       " 'ctr_target_border_count': 1,\n",
       " 'posterior_sampling': False,\n",
       " 'has_time': False,\n",
       " 'store_all_simple_ctr': False,\n",
       " 'border_count': 254,\n",
       " 'classes_count': 0,\n",
       " 'auto_class_weights': 'None',\n",
       " 'sparse_features_conflict_fraction': 0,\n",
       " 'leaf_estimation_backtracking': 'AnyImprovement',\n",
       " 'best_model_min_trees': 1,\n",
       " 'model_shrink_rate': 0,\n",
       " 'min_data_in_leaf': 1,\n",
       " 'loss_function': 'RMSE',\n",
       " 'learning_rate': 0.04687400162220001,\n",
       " 'score_function': 'Cosine',\n",
       " 'task_type': 'CPU',\n",
       " 'leaf_estimation_iterations': 1,\n",
       " 'bootstrap_type': 'MVS',\n",
       " 'max_leaves': 64,\n",
       " 'permutation_count': 4}"
      ]
     },
     "execution_count": 23,
     "metadata": {},
     "output_type": "execute_result"
    }
   ],
   "source": [
    "base_params = ctb_model.get_all_params()\n",
    "base_params"
   ]
  },
  {
   "cell_type": "markdown",
   "id": "13aadf10-c656-4a77-94f3-a079eb2f35f6",
   "metadata": {},
   "source": [
    "Оптимизируем параметры: число итераций (iterations), максимальную глубину деревьев (depth), коэффициент $\\mathcal{l}_2$-регуляризации (l2_leaf_reg) и темп обучения или градиентный шаг (learning_rate)"
   ]
  },
  {
   "cell_type": "code",
   "execution_count": 24,
   "id": "8042369e-3e68-40f5-bfba-c50da31d1bac",
   "metadata": {},
   "outputs": [],
   "source": [
    "base_learning_rate = base_params['learning_rate']\n",
    "base_depth = base_params['depth']\n",
    "base_l2_leaf_reg =  base_params['l2_leaf_reg']\n",
    "base_iterations = base_params['iterations']"
   ]
  },
  {
   "cell_type": "markdown",
   "id": "8c6f730f-792a-48e0-b0ca-c86a7214a3ff",
   "metadata": {},
   "source": [
    "Выполняем поиск оптимальных параметров по сетке"
   ]
  },
  {
   "cell_type": "code",
   "execution_count": 25,
   "id": "e7c57a57-740e-4280-aad2-e824e3d1c963",
   "metadata": {
    "tags": []
   },
   "outputs": [],
   "source": [
    "grid = {'iterations' : np.array([1, 4, 8]) * base_iterations,\n",
    "        'learning_rate': np.array([1, 0.1, 0.05]) * base_learning_rate,\n",
    "        'depth': np.array([2/3, 1, 4/3]) * base_depth,\n",
    "        'l2_leaf_reg': np.array([1/3, 1]) * base_l2_leaf_reg}\n",
    "\n",
    "params_grid = {'eval_metric' : 'RMSE',\n",
    "               'early_stopping_rounds' : 300,\n",
    "               'random_seed' : 42,\n",
    "               'logging_level' : 'Silent'}\n",
    "\n",
    "ctb = CatBoostRegressor(**params_grid)\n",
    "randomized_search_results = ctb.randomized_search(grid, X = train_pool, verbose=False, n_iter=15)\n",
    "best_params = randomized_search_results['params']"
   ]
  },
  {
   "cell_type": "code",
   "execution_count": 26,
   "id": "8ba1c9a4-242f-46ed-ab04-5b5d0b502fec",
   "metadata": {},
   "outputs": [
    {
     "data": {
      "application/vnd.jupyter.widget-view+json": {
       "model_id": "da0665254ef84e528e8198f2e89f0198",
       "version_major": 2,
       "version_minor": 0
      },
      "text/plain": [
       "MetricVisualizer(layout=Layout(align_self='stretch', height='500px'))"
      ]
     },
     "metadata": {},
     "output_type": "display_data"
    }
   ],
   "source": [
    "best_model = CatBoostRegressor(**best_params)\n",
    "best_model.fit(train_pool, eval_set=val_pool, plot=True, verbose=False);"
   ]
  },
  {
   "cell_type": "markdown",
   "id": "c3471e7d-b505-4144-b374-4c1c150cac9f",
   "metadata": {},
   "source": [
    "Сделаем прогноз на тестовых данных и сформируем .csv файл с ответами для загрузки на Kaggle"
   ]
  },
  {
   "cell_type": "code",
   "execution_count": 27,
   "id": "dc578840-0fec-4a0a-8f0a-c3da33a957af",
   "metadata": {},
   "outputs": [],
   "source": [
    "y_submit = best_model.predict(test_pool)\n",
    "submit_best = pd.DataFrame({'Id':test.index, 'SalePrice': np.expm1(y_submit)})\n",
    "submit_best.to_csv('~/ds/house_prices/submit_best.csv', index=False)"
   ]
  },
  {
   "cell_type": "markdown",
   "id": "dbcf525b-7141-4525-9873-ee9e091cc99c",
   "metadata": {},
   "source": [
    "0.12420 - RMSLE на тестовой выборке   \n",
    "Подбор гиперпараметров позволил улучшить качество на ~5% "
   ]
  },
  {
   "cell_type": "markdown",
   "id": "5f91fe11-8e2a-4508-96ed-00de966f07bb",
   "metadata": {},
   "source": [
    "Сохраним модель, чтобы в будущем для ее использования не приходилось каждый раз осуществлять поиск параметров"
   ]
  },
  {
   "cell_type": "code",
   "execution_count": 28,
   "id": "b4f3fffa-0c1c-4a70-85dc-d44aefa9ad16",
   "metadata": {},
   "outputs": [],
   "source": [
    "best_model.save_model('house_prices')"
   ]
  },
  {
   "cell_type": "markdown",
   "id": "fe654c6b-6c24-4756-8c3a-31927bce5bb7",
   "metadata": {},
   "source": [
    "Загрузим модель, если ее имя сейчас не определено в окружении (если на текущем запуске ядра Python не искали параметры по сетке)"
   ]
  },
  {
   "cell_type": "code",
   "execution_count": 29,
   "id": "c2ed8a7f-c401-4b57-8310-a973bd5c3ba2",
   "metadata": {},
   "outputs": [],
   "source": [
    "if 'best_model' not in globals():\n",
    "    best_model = CatBoostRegressor()\n",
    "    best_model.load_model('house_prices')"
   ]
  },
  {
   "cell_type": "markdown",
   "id": "1da627e8-9841-4232-89af-711d255cddab",
   "metadata": {},
   "source": [
    "Важным преимуществом деревьев является их интерпретируемость для человека   \n",
    "Изучим важность признаков"
   ]
  },
  {
   "cell_type": "code",
   "execution_count": 30,
   "id": "fbb878b8-029b-49d6-8704-ba8dce2accf4",
   "metadata": {
    "tags": []
   },
   "outputs": [
    {
     "data": {
      "image/png": "[encoded data removed]",
      "text/plain": [
       "<Figure size 1080x648 with 1 Axes>"
      ]
     },
     "metadata": {},
     "output_type": "display_data"
    }
   ],
   "source": [
    "fe_imp = best_model.get_feature_importance(prettified=True)\n",
    "sns.set(rc={'figure.figsize':(15,9)})\n",
    "sns.barplot(y = 'Feature Id', x = 'Importances', data=fe_imp[:20]).set_title('Топ-20 наиболее важных признаков, влияющих на стоимость недвижимости'); "
   ]
  },
  {
   "cell_type": "markdown",
   "id": "5d7282b2-e3b2-48dd-b5c3-a64c73edb816",
   "metadata": {},
   "source": [
    "Наибольшую с отрывом важность имеют жилая площадь недвижимости (GrLivArea) и оценка качества ремонта и материлов дома (OverallQual)  \n",
    "\n",
    "Так же, высокую важность для цены имеют качество внешней отделки дома, кухня, камины (количество и качество), гараж (вместимость, количество, качество), участок, район   \n",
    "\n",
    "Из интересного: высокую важность имеет площадь подвала, возможно, это объясняется тем, что она зачастую коррелирует с площадью всего дома   \n",
    "\n",
    "Качество стройматериалов (дорогие, дешевые) (OverallQual) имеет больший вес, чем их состояние, износ (OverallCond), что тоже логично, т.к зачастую не только в строительстве и недвижимости качественные, хоть и не в идеальном состоянии, материалы ценятся больше, чем дешевые в идеальном состоянии "
   ]
  },
  {
   "cell_type": "code",
   "execution_count": 31,
   "id": "4f0b6377-84c3-4bb1-bb08-be7bf867bab0",
   "metadata": {},
   "outputs": [
    {
     "data": {
      "image/png": "[encoded data removed]",
      "text/plain": [
       "<Figure size 1080x648 with 1 Axes>"
      ]
     },
     "metadata": {},
     "output_type": "display_data"
    }
   ],
   "source": [
    "sns.barplot(y = 'Feature Id', x = 'Importances', \n",
    "            data = fe_imp.sort_values(by = 'Importances')[:20]).set_title('Топ-20 наименее важных признаков, влияющих на стоимость недвижимости'); "
   ]
  },
  {
   "cell_type": "markdown",
   "id": "5026ca4a-79f8-43ff-b5e8-8ed73583b05b",
   "metadata": {},
   "source": [
    "Сразу бросается в глаза нулевой вес признака доступные коммунальные услуги (Utilities), посмотрим, какие значения он принимает:"
   ]
  },
  {
   "cell_type": "code",
   "execution_count": 62,
   "id": "25082f06-5e13-4dc8-b2d2-ebffa6bd2f00",
   "metadata": {},
   "outputs": [
    {
     "data": {
      "text/plain": [
       "(AllPub    1459\n",
       " NoSeWa       1\n",
       " Name: Utilities, dtype: int64,\n",
       " AllPub      1457\n",
       " NotGiven       2\n",
       " Name: Utilities, dtype: int64)"
      ]
     },
     "execution_count": 62,
     "metadata": {},
     "output_type": "execute_result"
    }
   ],
   "source": [
    "train.Utilities.value_counts(), test.Utilities.value_counts()"
   ]
  },
  {
   "cell_type": "markdown",
   "id": "cb08601a-c263-4988-b7d8-586005b822e3",
   "metadata": {},
   "source": [
    "И в обучающей, и в тестовой выборке это признак по сути константный и не влияет на результат, поэтому CatBoost его обнулил\n",
    "\n",
    "Такая же ситуация наблюдается с типом дороги, ведущей к участку (Street) и аллеи, ведущей от дороги к участку (Alley)"
   ]
  },
  {
   "cell_type": "code",
   "execution_count": 61,
   "id": "8e0bea82-4b5d-445e-8e75-23a988ac37ec",
   "metadata": {},
   "outputs": [
    {
     "data": {
      "text/plain": [
       "(Pave    1454\n",
       " Grvl       6\n",
       " Name: Street, dtype: int64,\n",
       " Pave    1453\n",
       " Grvl       6\n",
       " Name: Street, dtype: int64)"
      ]
     },
     "execution_count": 61,
     "metadata": {},
     "output_type": "execute_result"
    }
   ],
   "source": [
    "train.Street.value_counts(), test.Street.value_counts()"
   ]
  },
  {
   "cell_type": "code",
   "execution_count": 69,
   "id": "7007e036-0fff-4de0-9ac3-66da50849a52",
   "metadata": {},
   "outputs": [
    {
     "data": {
      "text/plain": [
       "(NotGiven    1369\n",
       " Grvl          50\n",
       " Pave          41\n",
       " Name: Alley, dtype: int64,\n",
       " NotGiven    1352\n",
       " Grvl          70\n",
       " Pave          37\n",
       " Name: Alley, dtype: int64)"
      ]
     },
     "execution_count": 69,
     "metadata": {},
     "output_type": "execute_result"
    }
   ],
   "source": [
    "train.Alley.value_counts(), test.Alley.value_counts()"
   ]
  },
  {
   "cell_type": "markdown",
   "id": "d3f6a73c-e76d-4bb7-9048-290271456c35",
   "metadata": {},
   "source": [
    "Низким вкладом в цену также обладают:  \n",
    "- Стиль дома и крыши\n",
    "- Площадь бассейна (большим вкладом обладает его наличие, а площадь уже вторична)\n",
    "- Площадь крыльца\n",
    "- Тип отопления и тип электрической проводки"
   ]
  }
 ],
 "metadata": {
  "kernelspec": {
   "display_name": "Python 3",
   "language": "python",
   "name": "python3"
  },
  "language_info": {
   "codemirror_mode": {
    "name": "ipython",
    "version": 3
   },
   "file_extension": ".py",
   "mimetype": "text/x-python",
   "name": "python",
   "nbconvert_exporter": "python",
   "pygments_lexer": "ipython3",
   "version": "3.9.1"
  }
 },
 "nbformat": 4,
 "nbformat_minor": 5
}
